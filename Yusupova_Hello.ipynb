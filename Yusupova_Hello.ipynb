{
  "metadata": {
    "language_info": {
      "codemirror_mode": {
        "name": "python",
        "version": 3
      },
      "file_extension": ".py",
      "mimetype": "text/x-python",
      "name": "python",
      "nbconvert_exporter": "python",
      "pygments_lexer": "ipython3",
      "version": "3.8"
    },
    "kernelspec": {
      "name": "python",
      "display_name": "Pyolite",
      "language": "python"
    },
    "colab": {
      "name": "Yusupova-Hello.ipynb",
      "provenance": [],
      "include_colab_link": true
    }
  },
  "nbformat_minor": 0,
  "nbformat": 4,
  "cells": [
    {
      "cell_type": "markdown",
      "metadata": {
        "id": "view-in-github",
        "colab_type": "text"
      },
      "source": [
        "<a href=\"https://colab.research.google.com/github/EvelinaYusupova322/BAS_rgr/blob/main/Yusupova_Hello.ipynb\" target=\"_parent\"><img src=\"https://colab.research.google.com/assets/colab-badge.svg\" alt=\"Open In Colab\"/></a>"
      ]
    },
    {
      "cell_type": "markdown",
      "source": [
        "Выполнила Юсупова Э.А."
      ],
      "metadata": {
        "id": "6Xtlt5XFSxCz"
      }
    },
    {
      "cell_type": "code",
      "source": [
        "print (\"Hello, world!\")"
      ],
      "metadata": {
        "trusted": true,
        "id": "_lEKXoQCSxC8",
        "outputId": "e3c4219a-8262-48c6-bad5-e72709c14bd7"
      },
      "execution_count": null,
      "outputs": [
        {
          "name": "stdout",
          "text": "Hello, world!\n",
          "output_type": "stream"
        }
      ]
    }
  ]
}