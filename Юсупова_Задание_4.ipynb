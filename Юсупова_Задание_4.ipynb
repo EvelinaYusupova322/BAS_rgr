{
  "nbformat": 4,
  "nbformat_minor": 0,
  "metadata": {
    "colab": {
      "name": "Юсупова_Задание 4.ipynb",
      "provenance": [],
      "authorship_tag": "ABX9TyPwWfRKBN1oJ743R00HDXAJ",
      "include_colab_link": true
    },
    "kernelspec": {
      "name": "python3",
      "display_name": "Python 3"
    },
    "language_info": {
      "name": "python"
    }
  },
  "cells": [
    {
      "cell_type": "markdown",
      "metadata": {
        "id": "view-in-github",
        "colab_type": "text"
      },
      "source": [
        "<a href=\"https://colab.research.google.com/github/EvelinaYusupova322/BAS_rgr/blob/main/%D0%AE%D1%81%D1%83%D0%BF%D0%BE%D0%B2%D0%B0_%D0%97%D0%B0%D0%B4%D0%B0%D0%BD%D0%B8%D0%B5_4.ipynb\" target=\"_parent\"><img src=\"https://colab.research.google.com/assets/colab-badge.svg\" alt=\"Open In Colab\"/></a>"
      ]
    },
    {
      "cell_type": "markdown",
      "source": [
        ""
      ],
      "metadata": {
        "id": "cdNef6ODLDv_"
      }
    },
    {
      "cell_type": "markdown",
      "source": [
        "#Корреляция и регрессия\n",
        "##Юсупова Эвелина Альфредовна ПИ-322\n",
        "###№ЗК 19130173\n",
        "\n",
        "\n"
      ],
      "metadata": {
        "id": "1oLbsBiMLKxj"
      }
    },
    {
      "cell_type": "markdown",
      "source": [
        "Генерация исходных данных"
      ],
      "metadata": {
        "id": "2ZH053wnKyRs"
      }
    },
    {
      "cell_type": "code",
      "source": [
        "import numpy as np\n",
        "np.random. seed(19130173)\n",
        "N = 100"
      ],
      "metadata": {
        "id": "0hVpfc2kMyHw"
      },
      "execution_count": 5,
      "outputs": []
    },
    {
      "cell_type": "markdown",
      "source": [
        "Равномерное распределение"
      ],
      "metadata": {
        "id": "RpC4lxi0M033"
      }
    },
    {
      "cell_type": "code",
      "source": [
        "x = np.random.uniform(low=150, high=200, size=N)\n",
        "np.random.uniform?"
      ],
      "metadata": {
        "id": "2CL09vNxM2rs"
      },
      "execution_count": 6,
      "outputs": []
    },
    {
      "cell_type": "markdown",
      "source": [
        "Нормальное распределение"
      ],
      "metadata": {
        "id": "dkYTFf3QM42u"
      }
    },
    {
      "cell_type": "code",
      "source": [
        "np. random. seed(36103191)\n",
        "e = np.random.normal(loc=0, scale=10, size=N)\n",
        "np.random.normal?"
      ],
      "metadata": {
        "id": "rejBcss4M6rN"
      },
      "execution_count": 7,
      "outputs": []
    },
    {
      "cell_type": "markdown",
      "source": [
        "Прямая линия + разброс"
      ],
      "metadata": {
        "id": "_cw4MEa_M-uA"
      }
    },
    {
      "cell_type": "code",
      "source": [
        "y = -100 + x + e"
      ],
      "metadata": {
        "id": "PVtI-r5HNANk"
      },
      "execution_count": 8,
      "outputs": []
    },
    {
      "cell_type": "markdown",
      "source": [
        "Диаграмма рассеивания"
      ],
      "metadata": {
        "id": "Y3UpuCpBNB4I"
      }
    },
    {
      "cell_type": "code",
      "source": [
        "import matplotlib.pyplot as plt\n",
        "plt.figure(figsize=(4,4))\n",
        "plt.title(\"Диаграмма рассеивания\")\n",
        "plt.xlabel(\"X\")\n",
        "plt.ylabel(\"Y\")\n",
        "plt. scatter(x, y)\n",
        "plt. show()"
      ],
      "metadata": {
        "colab": {
          "base_uri": "https://localhost:8080/",
          "height": 295
        },
        "id": "8KoXvKJRNEQH",
        "outputId": "4f9bfc83-0f3c-43fa-a646-f5313ab7fe61"
      },
      "execution_count": 10,
      "outputs": [
        {
          "output_type": "display_data",
          "data": {
            "text/plain": [
              "<Figure size 288x288 with 1 Axes>"
            ],
            "image/png": "[encoded data removed]"
          },
          "metadata": {
            "needs_background": "light"
          }
        }
      ]
    },
    {
      "cell_type": "markdown",
      "source": [
        "Корреляционный анализ"
      ],
      "metadata": {
        "id": "EHBfHkc9NGSL"
      }
    },
    {
      "cell_type": "code",
      "source": [
        "import scipy.stats as st\n",
        "r = st.pearsonr(x, y)[0]\n",
        "rho = st.spearmanr(x, y)[0]\n",
        "tau = st.kendalltau(x, y)[0]\n",
        "print(f\"Коэффициент линейной корреляции Пирсона: \\t{r:.3f}\")\n",
        "print(f\"Коэффициент корреляции рангов Спирмена: \\t{rho:.3f}\")\n",
        "print(f\"Коэффициент корреляции рангов Кендалла: \\t{tau:.3f}\")"
      ],
      "metadata": {
        "colab": {
          "base_uri": "https://localhost:8080/"
        },
        "id": "ReQPC1IKNI_5",
        "outputId": "110efa76-7844-4291-be23-a799cb3eae85"
      },
      "execution_count": 11,
      "outputs": [
        {
          "output_type": "stream",
          "name": "stdout",
          "text": [
            "Коэффициент линейной корреляции Пирсона: \t0.819\n",
            "Коэффициент корреляции рангов Спирмена: \t0.831\n",
            "Коэффициент корреляции рангов Кендалла: \t0.633\n"
          ]
        }
      ]
    },
    {
      "cell_type": "markdown",
      "source": [
        "Регрессионный анализ"
      ],
      "metadata": {
        "id": "p5nkzDnfNOgx"
      }
    },
    {
      "cell_type": "code",
      "source": [
        "results_yx = st.linregress(x, y)\n",
        "a = results_yx.intercept\n",
        "b = results_yx.slope\n",
        "print(f\"a={a:.3f}\")\n",
        "print(f\"b={b:.3f}\")"
      ],
      "metadata": {
        "colab": {
          "base_uri": "https://localhost:8080/"
        },
        "id": "niZhUdPQNP6M",
        "outputId": "7b1fb160-14ac-40d2-a283-9f5397cb80c8"
      },
      "execution_count": 12,
      "outputs": [
        {
          "output_type": "stream",
          "name": "stdout",
          "text": [
            "a=-94.528\n",
            "b=0.980\n"
          ]
        }
      ]
    },
    {
      "cell_type": "markdown",
      "source": [
        "Проверка"
      ],
      "metadata": {
        "id": "v1OLMGbINRih"
      }
    },
    {
      "cell_type": "code",
      "source": [
        "plt.figure(figsize=(10,10))\n",
        "plt.title(\"Диаграмма рассеивания\")\n",
        "plt.xlabel(\"X\")\n",
        "plt.ylabel(\"Y\")\n",
        "plt.scatter(x, y)\n",
        "x_yx = np.array([150, 200])\n",
        "y_yx=a+b*x_yx\n",
        "plt.plot(x_yx, y_yx, 'r-')\n",
        "plt.show()"
      ],
      "metadata": {
        "colab": {
          "base_uri": "https://localhost:8080/",
          "height": 621
        },
        "id": "mji_fcXaNS3y",
        "outputId": "54d12e66-6a04-4ede-bd36-db40ed55ed8c"
      },
      "execution_count": 13,
      "outputs": [
        {
          "output_type": "display_data",
          "data": {
            "text/plain": [
              "<Figure size 720x720 with 1 Axes>"
            ],
            "image/png": "[encoded data removed]"
          },
          "metadata": {
            "needs_background": "light"
          }
        }
      ]
    },
    {
      "cell_type": "markdown",
      "source": [
        "Регрессия y=f(x)"
      ],
      "metadata": {
        "id": "wRZieA_oNUsT"
      }
    },
    {
      "cell_type": "code",
      "source": [
        "results_xy = st.linregress(y, x)\n",
        "c = results_xy.intercept\n",
        "d = results_xy.slope\n",
        "c, d"
      ],
      "metadata": {
        "colab": {
          "base_uri": "https://localhost:8080/"
        },
        "id": "g0Kuv-VlNWFT",
        "outputId": "66dab7b5-e3cc-449e-ddf5-109c75645493"
      },
      "execution_count": 14,
      "outputs": [
        {
          "output_type": "execute_result",
          "data": {
            "text/plain": [
              "(122.30750161592826, 0.6841341966448694)"
            ]
          },
          "metadata": {},
          "execution_count": 14
        }
      ]
    },
    {
      "cell_type": "markdown",
      "source": [
        "Пересечение линий регрессии"
      ],
      "metadata": {
        "id": "SwYDs0mpNX8y"
      }
    },
    {
      "cell_type": "code",
      "source": [
        "x_mean = np.mean(x)\n",
        "y_mean = np. mean(y)\n",
        "x_mean, y_mean"
      ],
      "metadata": {
        "colab": {
          "base_uri": "https://localhost:8080/"
        },
        "id": "9x21klhiNZcW",
        "outputId": "65cd79e8-6a02-4a71-ecbb-cd9a595856e1"
      },
      "execution_count": 15,
      "outputs": [
        {
          "output_type": "execute_result",
          "data": {
            "text/plain": [
              "(175.0378125164746, 77.0759759695485)"
            ]
          },
          "metadata": {},
          "execution_count": 15
        }
      ]
    },
    {
      "cell_type": "markdown",
      "source": [
        "Диаграмма рассеивания + линии регресcии + пересечение"
      ],
      "metadata": {
        "id": "6KsQdQVGNbeO"
      }
    },
    {
      "cell_type": "code",
      "source": [
        "plt.figure(figsize=(8,8))\n",
        "plt.title(\"Диаграмма рассеивания\")\n",
        "plt.xlabel(\"X\")\n",
        "plt.ylabel(\"Y\")\n",
        "plt.scatter(x, y, c='grey', label = 'исходные данные')\n",
        "\n",
        "x_yx = np.array([150, 200])\n",
        "y_yx=a+b*x_yx\n",
        "plt.plot(x_yx, y_yx, 'g' , label = 'линия регрессии y(x)')\n",
        "\n",
        "x_yx=c+d*y_yx\n",
        "plt.plot(x_yx, y_yx, 'y' , label = 'линия регрессии x(y)')\n",
        "\n",
        "plt.plot(x_mean, y_mean, 'o-r', label = 'среднее значение')\n",
        "#plt.plot( 'y' , label = 'линия регрессии y(x)')\n",
        "plt.legend(fontsize=10, loc=0)\n",
        "plt.show()"
      ],
      "metadata": {
        "colab": {
          "base_uri": "https://localhost:8080/",
          "height": 513
        },
        "id": "7BMFPtyeNdEV",
        "outputId": "66c77e7c-3dcb-4486-f751-93e9fcdd3401"
      },
      "execution_count": 17,
      "outputs": [
        {
          "output_type": "display_data",
          "data": {
            "text/plain": [
              "<Figure size 576x576 with 1 Axes>"
            ],
            "image/png": "[encoded data removed]"
          },
          "metadata": {
            "needs_background": "light"
          }
        }
      ]
    }
  ]
}