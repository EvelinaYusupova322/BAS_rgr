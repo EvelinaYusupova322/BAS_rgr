{
  "nbformat": 4,
  "nbformat_minor": 0,
  "metadata": {
    "colab": {
      "name": "Юсупова_РГР2.ipynb",
      "provenance": [],
      "collapsed_sections": []
    },
    "kernelspec": {
      "name": "python3",
      "display_name": "Python 3"
    },
    "language_info": {
      "name": "python"
    }
  },
  "cells": [
    {
      "cell_type": "code",
      "execution_count": null,
      "metadata": {
        "id": "zlz0wBJDCFah"
      },
      "outputs": [],
      "source": [
        ""
      ]
    },
    {
      "cell_type": "markdown",
      "source": [
        ""
      ],
      "metadata": {
        "id": "adC_jAMgGDk4"
      }
    },
    {
      "cell_type": "markdown",
      "source": [
        "# **Юсупова Эвелина ПИ-322**\n",
        "### **Греческий алфавит** \n",

        "| Прописные  | Строчные | Название|Name|\n",
        "| :---:  |:-----:|:-----:|:-----:|\n",
        "|A |$\\alpha$| Альфа | Alpha |\n",
        "|B| $\\beta$| Бета | Beta |\n",
        "|$\\Gamma$| $\\gamma$| Гамма | Gamma |\n",
        "|$\\Delta$|$\\delta$| Дельта | Delta |\n",
        "|E|$\\epsilon$|Эпсилон | Epsilon |\n",
        "|Z|$\\zeta$| Дзета | Zeta |\n",
        "|H|$\\eta$| Эта | Eta |\n",
        "|$\\Theta$|$\\theta$| Тета | Theta |\n",
        "|I|$\\iota$| Йота | Iota |\n",
        "|K|$\\kappa$| Каппа | Kappa |\n",
        "|$\\Lambda$|$\\lambda$|Лямбда|Lambda|\n",
        "|M|$\\mu$|Мю|Mu|\n",
        "|N|$\\nu$|Ню|Nu|\n",
        "|$\\Xi$|$\\xi$|Кси|Xi|\n",
        "|O|$\\omicron$|Омикрон|Omicron|\n",
        "|$\\Pi$|$\\pi$|Пи|Pi|\n",
        "|P|$\\rho$|Ро|Rho|\n",
        "|$\\Sigma$|$\\sigma$|Сигма|Sigma|\n",
        "|T|$\\tau$|Тау|Tau|\n",
        "|$\\Upsilon$|$\\upsilon$|Ипсилон|Upsilon|\n",
        "|$\\Phi$|$\\phi$|Фи|Phi|\n",
        "|X|$\\chi$|Хи|Chi|\n",
        "|$\\Psi$|$\\psi$|Пси|Psi|\n",
        "|$\\Omega$|$\\omega$|Омега|Omega|\n",
        "\n",
        "\n",
        "---\n",
        "##### **Формула нормального распределения:** \n",
        "${\\displaystyle f(x)={\\frac {1}{\\sigma {\\sqrt {2\\pi }}}}e^{-{\\frac {1}{2}}\\left({\\frac {x-\\mu }{\\sigma }}\\right)^{2}}}$\n",
        "\n"
      ],
      "metadata": {
        "id": "qeXgSFr7CMXz"
      }
    }
  ]
}
